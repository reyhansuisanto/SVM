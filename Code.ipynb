{
  "nbformat": 4,
  "nbformat_minor": 0,
  "metadata": {
    "colab": {
      "name": "No 2 UAS ML.ipynb",
      "provenance": [],
      "collapsed_sections": []
    },
    "kernelspec": {
      "name": "python3",
      "display_name": "Python 3"
    },
    "language_info": {
      "name": "python"
    }
  },
  "cells": [
    {
      "cell_type": "code",
      "metadata": {
        "id": "TLCkh8C0bQuV"
      },
      "source": [
        "# Reyhan Suisanto\n",
        "# 2301872980"
      ],
      "execution_count": null,
      "outputs": []
    },
    {
      "cell_type": "code",
      "metadata": {
        "id": "e64f6mh_Euzz"
      },
      "source": [
        "import numpy as np\n",
        "import pandas as pd\n",
        "from sklearn.svm import SVC\n",
        "import matplotlib.pyplot as plt"
      ],
      "execution_count": 1,
      "outputs": []
    },
    {
      "cell_type": "markdown",
      "metadata": {
        "id": "MBt0bMetcST3"
      },
      "source": [
        "Import dataset, kemudian saya pisah menjadi x(feature) dan y(label) untuk train dan test"
      ]
    },
    {
      "cell_type": "code",
      "metadata": {
        "id": "BqQ79TgoE7iJ"
      },
      "source": [
        "data = pd.read_csv('UAS_ML2021_DATASET01.csv')\n",
        "data[\"Label\"].replace({0:-1}, inplace=True)\n",
        "\n",
        "x = data.drop(\"Label\", axis=1)\n",
        "y = data['Label']\n",
        "\n",
        "x = np.array(x)\n",
        "y = np.array(y)"
      ],
      "execution_count": 2,
      "outputs": []
    },
    {
      "cell_type": "markdown",
      "metadata": {
        "id": "fvnSeVhQcYFO"
      },
      "source": [
        "Lalu saya menggunakan SVC dari library untuk mencari weight dan bias nya"
      ]
    },
    {
      "cell_type": "code",
      "metadata": {
        "colab": {
          "base_uri": "https://localhost:8080/"
        },
        "id": "YDxBAwZ7FbCF",
        "outputId": "542266d7-9fa7-40ea-a74c-0768b3f420b4"
      },
      "source": [
        "svc = SVC(kernel = 'linear')\n",
        "svc.fit(x, y)\n",
        "\n",
        "print('Weight = ', svc.coef_)\n",
        "print('Bias   = ', svc.intercept_)"
      ],
      "execution_count": 3,
      "outputs": [
        {
          "output_type": "stream",
          "text": [
            "Weight =  [[-1.43035116 -0.02982673]]\n",
            "Bias   =  [-1.60751825]\n"
          ],
          "name": "stdout"
        }
      ]
    },
    {
      "cell_type": "markdown",
      "metadata": {
        "id": "FtnOoWaGccEy"
      },
      "source": [
        "Lalu code dibawah merupakan code dari SVM"
      ]
    },
    {
      "cell_type": "code",
      "metadata": {
        "id": "WwQJcOjmFqvm"
      },
      "source": [
        "def plot_svc_decision_function(svc, ax=None, plot_support=True):\n",
        "    if ax is None:\n",
        "        ax = plt.gca()\n",
        "    xlim = ax.get_xlim()\n",
        "    ylim = ax.get_ylim()\n",
        "    \n",
        "    # Evaluate\n",
        "    x = np.linspace(xlim[0], xlim[1], 30)\n",
        "    y = np.linspace(ylim[0], ylim[1], 30)\n",
        "    Y, X = np.meshgrid(y, x)\n",
        "    xy = np.vstack([X.ravel(), Y.ravel()]).T\n",
        "    P = svc.decision_function(xy).reshape(X.shape)\n",
        "    \n",
        "    ax.contour(X, Y, P, colors='k',\n",
        "               levels=[-1, 0, 1], alpha=0.5,\n",
        "               linestyles=['--', '-', '--'])\n",
        "    \n",
        "    # Untuk plot support vector\n",
        "    if plot_support:\n",
        "        ax.scatter(svc.support_vectors_[:, 0],\n",
        "                   svc.support_vectors_[:, 1],\n",
        "                   s=300, linewidth=1, facecolors='none');\n",
        "    ax.set_xlim(xlim)\n",
        "    ax.set_ylim(ylim)"
      ],
      "execution_count": 4,
      "outputs": []
    },
    {
      "cell_type": "markdown",
      "metadata": {
        "id": "qoYsJ_fFchrc"
      },
      "source": [
        "Terakhir saya melakukan print untuk mencari support vectornya"
      ]
    },
    {
      "cell_type": "code",
      "metadata": {
        "colab": {
          "base_uri": "https://localhost:8080/",
          "height": 333
        },
        "id": "d-EyVLbjFvW7",
        "outputId": "67840484-5f1c-4553-a066-7d7ba3a43a5a"
      },
      "source": [
        "plt.scatter(x[:, 0], x[:, 1], c=y, s=50, cmap='prism')\n",
        "plot_svc_decision_function(svc);\n",
        "svc.support_vectors_"
      ],
      "execution_count": 6,
      "outputs": [
        {
          "output_type": "execute_result",
          "data": {
            "text/plain": [
              "array([[-0.49786339,  1.84886877],\n",
              "       [-0.45701287,  1.53946451],\n",
              "       [-1.82041156, -0.10675079],\n",
              "       [-1.87170722,  2.32769161]])"
            ]
          },
          "metadata": {
            "tags": []
          },
          "execution_count": 6
        },
        {
          "output_type": "display_data",
          "data": {
            "image/png": "[encoded data removed]",
            "text/plain": [
              "<Figure size 432x288 with 1 Axes>"
            ]
          },
          "metadata": {
            "tags": [],
            "needs_background": "light"
          }
        }
      ]
    },
    {
      "cell_type": "markdown",
      "metadata": {
        "id": "Ew7fPM_Lclnp"
      },
      "source": [
        "Saya juga print gambar untuk tiap titik-titiknya seperti gambar diatas"
      ]
    }
  ]
}